{
 "cells": [
  {
   "cell_type": "code",
   "execution_count": 5,
   "metadata": {},
   "outputs": [],
   "source": [
    "# quadrature = numerical integration (as\n",
    "# opposed of symbolic)\n",
    "from scipy.integrate import quad\n",
    "\n",
    "# This uses a numerical approach (the trapezoidal rule) to find the area under the\n",
    "# curve described by the coordinates\n",
    "from sklearn.metrics import auc"
   ]
  },
  {
   "cell_type": "markdown",
   "metadata": {},
   "source": [
    "$$\n",
    "\\int_1^2 \\frac{x}{2} dx = \\frac{3}{4}\n",
    "$$"
   ]
  },
  {
   "cell_type": "code",
   "execution_count": 3,
   "metadata": {},
   "outputs": [
    {
     "data": {
      "text/plain": [
       "(0.75, 8.326672684688674e-15)"
      ]
     },
     "execution_count": 3,
     "metadata": {},
     "output_type": "execute_result"
    }
   ],
   "source": [
    "# Numerical integration of the above function here:\n",
    "def g(x):\n",
    "    return x / 2\n",
    "\n",
    "# The second output is an estimate of the absolute error of the integral, which\n",
    "# in this case is essentially zero (...e-15).\n",
    "quad(g, 1, 2)"
   ]
  },
  {
   "cell_type": "markdown",
   "metadata": {},
   "source": [
    "Exercise:\n",
    "\n",
    "$$\n",
    "\\int_3^4 2x dx\n",
    "$$"
   ]
  },
  {
   "cell_type": "code",
   "execution_count": 4,
   "metadata": {},
   "outputs": [
    {
     "data": {
      "text/plain": [
       "(7.0, 7.771561172376096e-14)"
      ]
     },
     "execution_count": 4,
     "metadata": {},
     "output_type": "execute_result"
    }
   ],
   "source": [
    "def g(x):\n",
    "    return 2*x\n",
    "\n",
    "quad(g, 3, 4)"
   ]
  },
  {
   "cell_type": "markdown",
   "metadata": {},
   "source": [
    "### Finding the area under the curve\n",
    "From an example, the (x, y) coordinates of a binary classifier model are:\n",
    "- (0, 0)\n",
    "- (0, 0.5)\n",
    "- (0.5, 0.5)\n",
    "- (0.5, 1)\n",
    "- (1, 1)"
   ]
  },
  {
   "cell_type": "code",
   "execution_count": 7,
   "metadata": {},
   "outputs": [
    {
     "data": {
      "text/plain": [
       "0.75"
      ]
     },
     "execution_count": 7,
     "metadata": {},
     "output_type": "execute_result"
    }
   ],
   "source": [
    "xs = [0, 0, 0.5, 0.5, 1]\n",
    "ys = [0, 0.5, 0.5, 1, 1]\n",
    "\n",
    "# This is the same as the exercise above\n",
    "auc(xs, ys)"
   ]
  }
 ],
 "metadata": {
  "kernelspec": {
   "display_name": "Python 3",
   "language": "python",
   "name": "python3"
  },
  "language_info": {
   "codemirror_mode": {
    "name": "ipython",
    "version": 3
   },
   "file_extension": ".py",
   "mimetype": "text/x-python",
   "name": "python",
   "nbconvert_exporter": "python",
   "pygments_lexer": "ipython3",
   "version": "3.12.0"
  }
 },
 "nbformat": 4,
 "nbformat_minor": 2
}
