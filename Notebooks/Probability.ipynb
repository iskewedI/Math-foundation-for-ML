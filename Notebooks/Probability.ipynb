{
 "cells": [
  {
   "cell_type": "markdown",
   "metadata": {},
   "source": [
    "If we have two outcomes that are equally likely, we can use probability theory\n",
    "to express the likelihood of a particular **event** by comparing it with the\n",
    "**sample space** (set of all possible outcomes, denoted by the Omega greek letter)\n",
    "\n",
    "$$\n",
    "    P(event) = \\frac{\\text{\\# of outcomes of event}}{\\text{\\# of outcomes in}\\, \\Omega}\n",
    "$$"
   ]
  },
  {
   "cell_type": "markdown",
   "metadata": {},
   "source": [
    "Flipping a coin example:\n",
    "\n",
    "$$\n",
    "P(H) = \\frac{1}{2} = 0.5\n",
    "$$"
   ]
  },
  {
   "cell_type": "markdown",
   "metadata": {},
   "source": [
    "#### Multiple Independent Observations\n",
    "\n",
    "For example, the probability of throwing two consecutive coin heads is:\n",
    "\n",
    "$$\n",
    "P(HH) = \\frac{1}{4} = 0.25\n",
    "$$"
   ]
  },
  {
   "cell_type": "markdown",
   "metadata": {},
   "source": [
    "And the probability of throwing exactly two heads in three tosses is \n",
    "\n",
    "$$\n",
    "P = \\frac{3}{8} = 0.375\n",
    "$$"
   ]
  },
  {
   "cell_type": "markdown",
   "metadata": {},
   "source": [
    "#### Combining Probabilities"
   ]
  },
  {
   "cell_type": "markdown",
   "metadata": {},
   "source": [
    "To combine probabilities, we can multiply them\n",
    "\n",
    "$$\n",
    "    P(HHHHH) = P(HH) \\times P(HHH) = \\frac{1}{4} \\times \\frac{1}{8} = \\frac{1}{32} \\approx 0.031\n",
    "$$"
   ]
  },
  {
   "cell_type": "markdown",
   "metadata": {},
   "source": [
    "#### Combinatorics"
   ]
  },
  {
   "cell_type": "markdown",
   "metadata": {},
   "source": [
    "Combinatorics is a field of math devoted to counting that can be helpful to studying probabilities. We can use **factorials** to calculate probabilities instead of determining all of the members of the sample space $\\Omega$ and counting subsets within $\\Omega$.\n",
    "\n",
    "We can calculate the number of outcomes of an event using the \"number of combinations\" equation:\n",
    "\n",
    "$$\n",
    " {n \\choose x} = \\frac{n!}{k!(n-r)!}\n",
    "$$"
   ]
  }
 ],
 "metadata": {
  "language_info": {
   "name": "python"
  }
 },
 "nbformat": 4,
 "nbformat_minor": 2
}
