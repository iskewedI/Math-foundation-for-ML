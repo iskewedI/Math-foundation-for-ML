{
 "cells": [
  {
   "cell_type": "code",
   "execution_count": 3,
   "metadata": {},
   "outputs": [],
   "source": [
    "import numpy as np\n",
    "import matplotlib.pyplot as plt"
   ]
  },
  {
   "cell_type": "code",
   "execution_count": 4,
   "metadata": {},
   "outputs": [],
   "source": [
    "x = np.linspace(-10, 10, 10000) # start, finish, n points\n",
    "\n",
    "def my_fxn(my_x):\n",
    "    my_y = (my_x**2 - 1)/(my_x - 1)\n",
    "    return my_y"
   ]
  },
  {
   "cell_type": "code",
   "execution_count": 9,
   "metadata": {},
   "outputs": [
    {
     "data": {
      "text/plain": [
       "1.000000000011061"
      ]
     },
     "execution_count": 9,
     "metadata": {},
     "output_type": "execute_result"
    }
   ],
   "source": [
    "# Using the delta method, find the slope of the tangent where x = -1\n",
    "delta = 1e-06\n",
    "\n",
    "x1 = -1\n",
    "y1 = my_fxn(x1)\n",
    "\n",
    "x2 = x1 + delta\n",
    "y2 = my_fxn(x2)\n",
    "\n",
    "# This 1.00000e-06 is practically zero.\n",
    "m = (y2-y1) / (x2-x1)\n",
    "\n",
    "m"
   ]
  }
 ],
 "metadata": {
  "kernelspec": {
   "display_name": "Python 3",
   "language": "python",
   "name": "python3"
  },
  "language_info": {
   "codemirror_mode": {
    "name": "ipython",
    "version": 3
   },
   "file_extension": ".py",
   "mimetype": "text/x-python",
   "name": "python",
   "nbconvert_exporter": "python",
   "pygments_lexer": "ipython3",
   "version": "3.10.9"
  }
 },
 "nbformat": 4,
 "nbformat_minor": 2
}
