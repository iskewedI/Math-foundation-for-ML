{
 "cells": [
  {
   "cell_type": "code",
   "execution_count": 1,
   "metadata": {},
   "outputs": [],
   "source": [
    "import numpy as np\n",
    "import matplotlib.pyplot as plt\n",
    "import torch\n",
    "import tensorflow as tf\n",
    "from utils import regression, regression_plot"
   ]
  },
  {
   "cell_type": "code",
   "execution_count": 4,
   "metadata": {},
   "outputs": [],
   "source": [
    "x = np.linspace(-10, 10, 10000) # start, finish, n points\n",
    "\n",
    "def my_fxn(my_x):\n",
    "    my_y = (my_x**2 - 1)/(my_x - 1)\n",
    "    return my_y"
   ]
  },
  {
   "cell_type": "code",
   "execution_count": 9,
   "metadata": {},
   "outputs": [
    {
     "data": {
      "text/plain": [
       "1.000000000011061"
      ]
     },
     "execution_count": 9,
     "metadata": {},
     "output_type": "execute_result"
    }
   ],
   "source": [
    "# Using the delta method, find the slope of the tangent where x = -1\n",
    "delta = 1e-06\n",
    "\n",
    "x1 = -1\n",
    "y1 = my_fxn(x1)\n",
    "\n",
    "x2 = x1 + delta\n",
    "y2 = my_fxn(x2)\n",
    "\n",
    "# This 1.00000e-06 is practically zero.\n",
    "m = (y2-y1) / (x2-x1)\n",
    "\n",
    "m"
   ]
  },
  {
   "cell_type": "markdown",
   "metadata": {},
   "source": [
    "## Automatic differentiation (autodiff) in Pytorch"
   ]
  },
  {
   "cell_type": "code",
   "execution_count": 12,
   "metadata": {},
   "outputs": [
    {
     "name": "stdout",
     "output_type": "stream",
     "text": [
      "tensor(25., grad_fn=<PowBackward0>)\n"
     ]
    },
    {
     "data": {
      "text/plain": [
       "tensor(10.)"
      ]
     },
     "execution_count": 12,
     "metadata": {},
     "output_type": "execute_result"
    }
   ],
   "source": [
    "x = torch.tensor(5.0)\n",
    "\n",
    "# Contagiuosly track gradients through forward pass.\n",
    "# Any variable created by the function of x or derives from some operation involving\n",
    "# this 'x', it will also be tracked (contagiuosly).\n",
    "# This takes extra memory, so its disabled by default.\n",
    "x.requires_grad_()\n",
    "\n",
    "# y = x²\n",
    "y = x**2\n",
    "print(y) # Check the grad_fn attribute\n",
    "\n",
    "y.backward() # use autodiff\n",
    "\n",
    "# dy/dx = 2x = 2(5) = 10\n",
    "print(x.grad) # result of calculating the derivative of the previous function"
   ]
  },
  {
   "cell_type": "markdown",
   "metadata": {},
   "source": [
    "## Automatic differentiation (autodiff) in Tensorflow"
   ]
  },
  {
   "cell_type": "code",
   "execution_count": 2,
   "metadata": {},
   "outputs": [
    {
     "data": {
      "text/plain": [
       "<tf.Tensor: shape=(), dtype=float32, numpy=10.0>"
      ]
     },
     "execution_count": 2,
     "metadata": {},
     "output_type": "execute_result"
    }
   ],
   "source": [
    "x = tf.Variable(5.0)\n",
    "\n",
    "# We can't track gradients globally in TF\n",
    "# We need to define a scope for this\n",
    "with tf.GradientTape() as t:\n",
    "    t.watch(x) # track forward pass\n",
    "\n",
    "    y = x** 2\n",
    "\n",
    "t.gradient(y, x) # use autodiff"
   ]
  },
  {
   "cell_type": "markdown",
   "metadata": {},
   "source": [
    "## Machine learning training with Autodiff in Pytorch\n",
    "\n",
    "1) Do forward pass\n",
    "2) Compare y_hat with true y to calculate cost **C** (loss)\n",
    "3) Use chain rule to calculate gradient of **C** \n",
    "4) Adjust ***b*** to reduce **C**"
   ]
  },
  {
   "cell_type": "code",
   "execution_count": 25,
   "metadata": {},
   "outputs": [
    {
     "data": {
      "image/png": "[encoded data removed]",
      "text/plain": [
       "<Figure size 640x480 with 1 Axes>"
      ]
     },
     "metadata": {},
     "output_type": "display_data"
    }
   ],
   "source": [
    "x = torch.tensor([0, 1, 2, 3, 4, 5, 6, 7.]) # E.g.:Dosage of drug for treating Alzheimer's disease\n",
    "\n",
    "# Fixed example of y values (random values)\n",
    "y= torch.tensor([1.86, 1.31, .62, .33, .09, -.67, -1.23, -1.37]) # E.g.: Patient's \"forgetfulness score\"\n",
    "\n",
    "fig, ax = plt.subplots()\n",
    "plt.title(\"Clinical Trial\")\n",
    "plt.xlabel(\"Drug dosage (mL)\")\n",
    "plt.ylabel(\"Forgetfulness\")\n",
    "_ = ax.scatter(x, y)"
   ]
  },
  {
   "cell_type": "code",
   "execution_count": 26,
   "metadata": {},
   "outputs": [],
   "source": [
    "# Random values to start with\n",
    "m = torch.tensor([0.9]).requires_grad_()\n",
    "# y-intercept parameter b\n",
    "b = torch.tensor([0.1]).requires_grad_()"
   ]
  },
  {
   "cell_type": "code",
   "execution_count": 27,
   "metadata": {},
   "outputs": [],
   "source": []
  },
  {
   "cell_type": "markdown",
   "metadata": {},
   "source": [
    "#### Step 1. Forward pass"
   ]
  },
  {
   "cell_type": "code",
   "execution_count": 28,
   "metadata": {},
   "outputs": [
    {
     "data": {
      "text/plain": [
       "tensor([0.1000, 1.0000, 1.9000, 2.8000, 3.7000, 4.6000, 5.5000, 6.4000],\n",
       "       grad_fn=<AddBackward0>)"
      ]
     },
     "execution_count": 28,
     "metadata": {},
     "output_type": "execute_result"
    }
   ],
   "source": [
    "yhat = regression(x, m, b)\n",
    "yhat"
   ]
  },
  {
   "cell_type": "markdown",
   "metadata": {},
   "source": [
    "#### Step 2. Compare yhat with true y to calculate cost C\n",
    "We can calculate the absolute value of the difference between true and predicted, as a starting point, but MSE works better. We square the difference (so it will always\n",
    "be positive), and the bigger the difference, the larger the cost, so its exponential.\n",
    "\n",
    "We tolerate small differences, but not larger ones. It guides better the model learning."
   ]
  },
  {
   "cell_type": "code",
   "execution_count": 29,
   "metadata": {},
   "outputs": [],
   "source": [
    "# Define custom Pytorch MSELoss (Mean Squared Error Loss)\n",
    "def mse(my_yhat, my_y):\n",
    "    sigma = torch.sum((my_yhat - my_y) ** 2)\n",
    "\n",
    "    return sigma/len(my_y)"
   ]
  },
  {
   "cell_type": "code",
   "execution_count": 30,
   "metadata": {},
   "outputs": [
    {
     "name": "stdout",
     "output_type": "stream",
     "text": [
      "Current loss: 19.675472259521484\n"
     ]
    }
   ],
   "source": [
    "C = mse(yhat, y)\n",
    "print(f\"Current loss: {C}\")"
   ]
  },
  {
   "cell_type": "markdown",
   "metadata": {},
   "source": [
    "#### Step 3: Use autodiff to calculate gradient of c w.r.t. parameters"
   ]
  },
  {
   "cell_type": "code",
   "execution_count": 31,
   "metadata": {},
   "outputs": [],
   "source": [
    "C.backward()"
   ]
  },
  {
   "cell_type": "code",
   "execution_count": 32,
   "metadata": {},
   "outputs": [
    {
     "data": {
      "text/plain": [
       "tensor([36.3050])"
      ]
     },
     "execution_count": 32,
     "metadata": {},
     "output_type": "execute_result"
    }
   ],
   "source": [
    "m.grad"
   ]
  },
  {
   "cell_type": "code",
   "execution_count": 33,
   "metadata": {},
   "outputs": [
    {
     "data": {
      "text/plain": [
       "tensor([6.2650])"
      ]
     },
     "execution_count": 33,
     "metadata": {},
     "output_type": "execute_result"
    }
   ],
   "source": [
    "b.grad"
   ]
  },
  {
   "cell_type": "markdown",
   "metadata": {},
   "source": [
    "#### Step 4: Gradient descent"
   ]
  },
  {
   "cell_type": "code",
   "execution_count": 34,
   "metadata": {},
   "outputs": [],
   "source": [
    "# Stochastic Gradient Descent\n",
    "# We pass the model parameters we want to adjust, and the learning rate.\n",
    "# The learning rate corresponds with how much we adjust parameters\n",
    "optimizer = torch.optim.SGD([m, b], lr=0.01)\n",
    "\n",
    "# Perform a step, adjusting m and b\n",
    "optimizer.step()"
   ]
  },
  {
   "cell_type": "code",
   "execution_count": 35,
   "metadata": {},
   "outputs": [
    {
     "data": {
      "text/plain": [
       "tensor([0.5369], requires_grad=True)"
      ]
     },
     "execution_count": 35,
     "metadata": {},
     "output_type": "execute_result"
    }
   ],
   "source": [
    "m"
   ]
  },
  {
   "cell_type": "code",
   "execution_count": 36,
   "metadata": {},
   "outputs": [
    {
     "data": {
      "text/plain": [
       "tensor([0.0374], requires_grad=True)"
      ]
     },
     "execution_count": 36,
     "metadata": {},
     "output_type": "execute_result"
    }
   ],
   "source": [
    "b"
   ]
  },
  {
   "cell_type": "code",
   "execution_count": 38,
   "metadata": {},
   "outputs": [
    {
     "data": {
      "image/png": "[encoded data removed]",
      "text/plain": [
       "<Figure size 640x480 with 1 Axes>"
      ]
     },
     "metadata": {},
     "output_type": "display_data"
    }
   ],
   "source": [
    "regression_plot(x, y, m, b)"
   ]
  },
  {
   "cell_type": "markdown",
   "metadata": {},
   "source": [
    "#### Step 5: Iteratively minimize cost toward zero (training)"
   ]
  },
  {
   "cell_type": "code",
   "execution_count": 40,
   "metadata": {},
   "outputs": [
    {
     "name": "stdout",
     "output_type": "stream",
     "text": [
      "Epoch: 0 | Cost: 0.01947583258152008 | M grad 0.0006683170795440674 | B grad -0.0032886117696762085\n",
      "Epoch: 100 | Cost: 0.01946915127336979 | M grad 0.0003750026226043701 | B grad -0.0018443763256072998\n",
      "Epoch: 200 | Cost: 0.019467033445835114 | M grad 0.00020971894264221191 | B grad -0.001034662127494812\n",
      "Epoch: 300 | Cost: 0.019466370344161987 | M grad 0.00011876225471496582 | B grad -0.0005799978971481323\n",
      "Epoch: 400 | Cost: 0.019466159865260124 | M grad 6.636977195739746e-05 | B grad -0.0003254115581512451\n",
      "Epoch: 500 | Cost: 0.019466105848550797 | M grad 3.674626350402832e-05 | B grad -0.0001827031373977661\n",
      "Epoch: 600 | Cost: 0.019466079771518707 | M grad 2.244114875793457e-05 | B grad -0.00010214745998382568\n",
      "Epoch: 700 | Cost: 0.019466081634163857 | M grad 1.3023614883422852e-05 | B grad -5.747377872467041e-05\n",
      "Epoch: 800 | Cost: 0.019466068595647812 | M grad 7.778406143188477e-06 | B grad -3.235042095184326e-05\n",
      "Epoch: 900 | Cost: 0.01946607045829296 | M grad 4.708766937255859e-06 | B grad -1.773238182067871e-05\n"
     ]
    }
   ],
   "source": [
    "epochs = 1000\n",
    "plot_interval = 100 # plot each 100 epochs\n",
    "for epoch in range(epochs):\n",
    "    # Reset gradients of optimized tensors, to avoid accumulation\n",
    "    optimizer.zero_grad()\n",
    "\n",
    "    yhat = regression(x, m, b) # Step 1\n",
    "    C = mse(yhat, y) # Step 2\n",
    "\n",
    "    C.backward() # Step 3\n",
    "    optimizer.step() # Step 4\n",
    "\n",
    "    if epoch % plot_interval == 0:\n",
    "        print(f\"Epoch: {epoch} | Cost: {C.item()} | M grad {m.grad.item()} | B grad {b.grad.item()}\")"
   ]
  },
  {
   "cell_type": "code",
   "execution_count": 41,
   "metadata": {},
   "outputs": [
    {
     "data": {
      "image/png": "[encoded data removed]",
      "text/plain": [
       "<Figure size 640x480 with 1 Axes>"
      ]
     },
     "metadata": {},
     "output_type": "display_data"
    }
   ],
   "source": [
    "regression_plot(x, y, m, b)"
   ]
  },
  {
   "cell_type": "markdown",
   "metadata": {},
   "source": [
    "## Exercises"
   ]
  },
  {
   "cell_type": "code",
   "execution_count": 47,
   "metadata": {},
   "outputs": [
    {
     "data": {
      "text/plain": [
       "tensor(10., grad_fn=<AddBackward0>)"
      ]
     },
     "execution_count": 47,
     "metadata": {},
     "output_type": "execute_result"
    }
   ],
   "source": [
    "# Find the slope of y = x² + 2x + 2 where x = 2\n",
    "x = torch.tensor(2.)\n",
    "\n",
    "def fn(x):\n",
    "    return x**2 + 2*x + 2\n",
    "\n",
    "x.requires_grad_()\n",
    "\n",
    "y = fn(x)\n",
    "y"
   ]
  },
  {
   "cell_type": "code",
   "execution_count": 24,
   "metadata": {},
   "outputs": [
    {
     "data": {
      "image/png": "[encoded data removed]",
      "text/plain": [
       "<Figure size 640x480 with 1 Axes>"
      ]
     },
     "metadata": {},
     "output_type": "display_data"
    }
   ],
   "source": [
    "# Create own X and Y and try to fit it\n",
    "x = torch.tensor([2, 4, 6, 8, 10, 12, 14, 16.]) # E.g.: Some X training data\n",
    "\n",
    "# y = m*x + b\n",
    "y = 0.5*x + 2 + torch.normal(mean=torch.zeros(len(x)), std=0.2) # plus some random noise\n",
    "\n",
    "fig, ax = plt.subplots()\n",
    "plt.title(\"Clinical Trial\")\n",
    "plt.xlabel(\"Drug dosage (mL)\")\n",
    "plt.ylabel(\"Forgetfulness\")\n",
    "_ = ax.scatter(x, y)"
   ]
  },
  {
   "cell_type": "code",
   "execution_count": 30,
   "metadata": {},
   "outputs": [
    {
     "name": "stdout",
     "output_type": "stream",
     "text": [
      "Epoch: 0 | Cost: 5.924348831176758 | m: 46.2838134765625 | b: 3.343275308609009\n",
      "Epoch: 1000 | Cost: 0.3085329532623291 | m: 0.04365372657775879 | b: -0.49373847246170044\n",
      "Epoch: 2000 | Cost: 0.14064998924732208 | m: 0.029012441635131836 | b: -0.32810860872268677\n",
      "Epoch: 3000 | Cost: 0.06651054322719574 | m: 0.019272685050964355 | b: -0.21804165840148926\n",
      "Epoch: 4000 | Cost: 0.03376982361078262 | m: 0.012818455696105957 | b: -0.14489668607711792\n",
      "Epoch: 5000 | Cost: 0.019311031326651573 | m: 0.008522629737854004 | b: -0.09628945589065552\n",
      "Epoch: 6000 | Cost: 0.012925805523991585 | m: 0.005678415298461914 | b: -0.06398677825927734\n",
      "Epoch: 7000 | Cost: 0.010106027126312256 | m: 0.003773212432861328 | b: -0.04252219200134277\n",
      "Epoch: 8000 | Cost: 0.008860730566084385 | m: 0.002518296241760254 | b: -0.028256714344024658\n",
      "Epoch: 9000 | Cost: 0.008310811594128609 | m: 0.001671910285949707 | b: -0.01877802610397339\n"
     ]
    },
    {
     "data": {
      "image/png": "[encoded data removed]",
      "text/plain": [
       "<Figure size 640x480 with 1 Axes>"
      ]
     },
     "metadata": {},
     "output_type": "display_data"
    }
   ],
   "source": [
    "# Train a model to predict that\n",
    "\n",
    "# MSE cost\n",
    "def calculate_cost(y_hat, y):\n",
    "    sigma = torch.sum((y_hat - y) ** 2)\n",
    "    return sigma/len(y)\n",
    "\n",
    "def regression(x, m, b):\n",
    "    return x*m + b\n",
    "\n",
    "# Initialize weights and biases with random values\n",
    "m = torch.tensor([0.9]).requires_grad_()\n",
    "b = torch.tensor([0.1]).requires_grad_()\n",
    "\n",
    "optim = torch.optim.SGD([m, b], lr=0.001)\n",
    "\n",
    "epochs = 10000\n",
    "plot_interval = 1000\n",
    "\n",
    "for epoch in range(epochs):\n",
    "    optim.zero_grad()\n",
    "\n",
    "    y_hat = regression(x, m, b)\n",
    "    C = calculate_cost(y_hat, y)\n",
    "\n",
    "    C.backward()\n",
    "    optim.step()\n",
    "\n",
    "    if epoch % plot_interval == 0:\n",
    "        print(f\"Epoch: {epoch} | Cost: {C.item()} | m: {m.grad.item()} | b: {b.grad.item()}\")\n",
    "\n",
    "regression_plot(x, y, m, b)"
   ]
  }
 ],
 "metadata": {
  "kernelspec": {
   "display_name": "Python 3",
   "language": "python",
   "name": "python3"
  },
  "language_info": {
   "codemirror_mode": {
    "name": "ipython",
    "version": 3
   },
   "file_extension": ".py",
   "mimetype": "text/x-python",
   "name": "python",
   "nbconvert_exporter": "python",
   "pygments_lexer": "ipython3",
   "version": "3.12.0"
  }
 },
 "nbformat": 4,
 "nbformat_minor": 2
}
